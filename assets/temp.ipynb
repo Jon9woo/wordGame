{
 "cells": [
  {
   "cell_type": "code",
   "execution_count": null,
   "metadata": {},
   "outputs": [],
   "source": [
    "# data/word.txt 파일을 읽어서 단어를 리스트로 만들어서 words 변수에 저장\n",
    "# words 변수에 저장된 단어 중에서 5글자 이상인 단어만 추출해서 5words 변수에 저장\n",
    "\n",
    "\n",
    "# 1. 파일을 읽어서 단어를 리스트로 만들어서 words 변수에 저장\n",
    "# 각 word를 리스트에 추가하기 전에 공백과 오른쪽 뉴라인 캐릭터(\\n)를 제거하고 추가하기\n",
    "with open('/Users/jongwoom1pro/Coding/개인프로젝트/word_game_problem/data/word.txt', 'r') as f:\n",
    "    words = f.readlines()\n",
    "    words = [word.strip() for word in words]\n",
    "    \n",
    "\n",
    "import pyglet\n",
    "from random import randint\n",
    "\n",
    "correct_music = pyglet.media.load('assets/good.wav')\n",
    "wrong_music = pyglet.media.load('assets/bad.wav')"
   ]
  }
 ],
 "metadata": {
  "language_info": {
   "name": "python"
  }
 },
 "nbformat": 4,
 "nbformat_minor": 2
}
