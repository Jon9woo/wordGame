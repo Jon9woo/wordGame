{
 "cells": [
  {
   "cell_type": "code",
   "execution_count": 2,
   "metadata": {},
   "outputs": [
    {
     "name": "stdout",
     "output_type": "stream",
     "text": [
      "데이터베이스에 성공적으로 연결되었습니다.\n"
     ]
    }
   ],
   "source": [
    "import os\n",
    "import pymysql\n",
    "from dotenv import load_dotenv\n",
    "\n",
    "# .env 파일 로드\n",
    "load_dotenv()\n",
    "\n",
    "# 환경 변수에서 값 가져오기\n",
    "HOST = os.getenv('HOST')\n",
    "PORT = int(os.getenv('PORT'))\n",
    "USER = os.getenv('DB_USER')\n",
    "PASSWD = os.getenv('PASSWD')\n",
    "DB = os.getenv('DB')\n",
    "\n",
    "# DB 이름 wordgame으로 연결 시도\n",
    "try:\n",
    "    conn = pymysql.connect(host=HOST, port=PORT, user=USER, passwd=PASSWD, db=DB)\n",
    "    print(\"데이터베이스에 성공적으로 연결되었습니다.\")\n",
    "except pymysql.MySQLError as e:\n",
    "    print(f\"데이터베이스 연결 오류: {e}\")\n"
   ]
  },
  {
   "cell_type": "code",
   "execution_count": 3,
   "metadata": {},
   "outputs": [
    {
     "ename": "NameError",
     "evalue": "name 'datetime' is not defined",
     "output_type": "error",
     "traceback": [
      "\u001b[0;31m---------------------------------------------------------------------------\u001b[0m",
      "\u001b[0;31mNameError\u001b[0m                                 Traceback (most recent call last)",
      "\u001b[0;32m/var/folders/s3/qf7_0f3s7137frvkybd7gfqh0000gn/T/ipykernel_90922/2304356805.py\u001b[0m in \u001b[0;36m<module>\u001b[0;34m\u001b[0m\n\u001b[1;32m     68\u001b[0m \u001b[0;34m\u001b[0m\u001b[0m\n\u001b[1;32m     69\u001b[0m \u001b[0;32mif\u001b[0m \u001b[0m__name__\u001b[0m \u001b[0;34m==\u001b[0m \u001b[0;34m\"__main__\"\u001b[0m\u001b[0;34m:\u001b[0m\u001b[0;34m\u001b[0m\u001b[0;34m\u001b[0m\u001b[0m\n\u001b[0;32m---> 70\u001b[0;31m     \u001b[0mmain\u001b[0m\u001b[0;34m(\u001b[0m\u001b[0;34m)\u001b[0m\u001b[0;34m\u001b[0m\u001b[0;34m\u001b[0m\u001b[0m\n\u001b[0m",
      "\u001b[0;32m/var/folders/s3/qf7_0f3s7137frvkybd7gfqh0000gn/T/ipykernel_90922/2304356805.py\u001b[0m in \u001b[0;36mmain\u001b[0;34m()\u001b[0m\n\u001b[1;32m     59\u001b[0m \u001b[0;34m\u001b[0m\u001b[0m\n\u001b[1;32m     60\u001b[0m     \u001b[0;31m# 예시 게임 결과 저장\u001b[0m\u001b[0;34m\u001b[0m\u001b[0;34m\u001b[0m\u001b[0m\n\u001b[0;32m---> 61\u001b[0;31m     \u001b[0msave_game_result\u001b[0m\u001b[0;34m(\u001b[0m\u001b[0;36m5\u001b[0m\u001b[0;34m,\u001b[0m \u001b[0;34m'14.923'\u001b[0m\u001b[0;34m)\u001b[0m\u001b[0;34m\u001b[0m\u001b[0;34m\u001b[0m\u001b[0m\n\u001b[0m\u001b[1;32m     62\u001b[0m     \u001b[0msave_game_result\u001b[0m\u001b[0;34m(\u001b[0m\u001b[0;36m5\u001b[0m\u001b[0;34m,\u001b[0m \u001b[0;34m'16.798'\u001b[0m\u001b[0;34m)\u001b[0m\u001b[0;34m\u001b[0m\u001b[0;34m\u001b[0m\u001b[0m\n\u001b[1;32m     63\u001b[0m     \u001b[0msave_game_result\u001b[0m\u001b[0;34m(\u001b[0m\u001b[0;36m4\u001b[0m\u001b[0;34m,\u001b[0m \u001b[0;34m'18.399'\u001b[0m\u001b[0;34m)\u001b[0m\u001b[0;34m\u001b[0m\u001b[0;34m\u001b[0m\u001b[0m\n",
      "\u001b[0;32m/var/folders/s3/qf7_0f3s7137frvkybd7gfqh0000gn/T/ipykernel_90922/2304356805.py\u001b[0m in \u001b[0;36msave_game_result\u001b[0;34m(corr_cnt, exe_time)\u001b[0m\n\u001b[1;32m     22\u001b[0m     \u001b[0mconn\u001b[0m \u001b[0;34m=\u001b[0m \u001b[0mpymysql\u001b[0m\u001b[0;34m.\u001b[0m\u001b[0mconnect\u001b[0m\u001b[0;34m(\u001b[0m\u001b[0mhost\u001b[0m\u001b[0;34m=\u001b[0m\u001b[0mHOST\u001b[0m\u001b[0;34m,\u001b[0m \u001b[0mport\u001b[0m\u001b[0;34m=\u001b[0m\u001b[0mPORT\u001b[0m\u001b[0;34m,\u001b[0m \u001b[0muser\u001b[0m\u001b[0;34m=\u001b[0m\u001b[0mUSER\u001b[0m\u001b[0;34m,\u001b[0m \u001b[0mpasswd\u001b[0m\u001b[0;34m=\u001b[0m\u001b[0mPASSWD\u001b[0m\u001b[0;34m,\u001b[0m \u001b[0mdb\u001b[0m\u001b[0;34m=\u001b[0m\u001b[0mDB\u001b[0m\u001b[0;34m)\u001b[0m\u001b[0;34m\u001b[0m\u001b[0;34m\u001b[0m\u001b[0m\n\u001b[1;32m     23\u001b[0m     \u001b[0mcursor\u001b[0m \u001b[0;34m=\u001b[0m \u001b[0mconn\u001b[0m\u001b[0;34m.\u001b[0m\u001b[0mcursor\u001b[0m\u001b[0;34m(\u001b[0m\u001b[0;34m)\u001b[0m\u001b[0;34m\u001b[0m\u001b[0;34m\u001b[0m\u001b[0m\n\u001b[0;32m---> 24\u001b[0;31m     \u001b[0mreg_date\u001b[0m \u001b[0;34m=\u001b[0m \u001b[0mdatetime\u001b[0m\u001b[0;34m.\u001b[0m\u001b[0mnow\u001b[0m\u001b[0;34m(\u001b[0m\u001b[0;34m)\u001b[0m\u001b[0;34m.\u001b[0m\u001b[0mstrftime\u001b[0m\u001b[0;34m(\u001b[0m\u001b[0;34m'%Y-%m-%d %H:%M:%S'\u001b[0m\u001b[0;34m)\u001b[0m\u001b[0;34m\u001b[0m\u001b[0;34m\u001b[0m\u001b[0m\n\u001b[0m\u001b[1;32m     25\u001b[0m \u001b[0;34m\u001b[0m\u001b[0m\n\u001b[1;32m     26\u001b[0m     \u001b[0;31m# 등수 계산\u001b[0m\u001b[0;34m\u001b[0m\u001b[0;34m\u001b[0m\u001b[0m\n",
      "\u001b[0;31mNameError\u001b[0m: name 'datetime' is not defined"
     ]
    }
   ],
   "source": [
    "# 테이블 생성 함수\n",
    "def create_table():\n",
    "    conn = pymysql.connect(host=HOST, port=PORT, user=USER, passwd=PASSWD, db=DB)\n",
    "    cursor = conn.cursor()\n",
    "    create_table_query = \"\"\"\n",
    "    CREATE TABLE IF NOT EXISTS wordgame (\n",
    "        id INT UNSIGNED NOT NULL AUTO_INCREMENT,\n",
    "        corr_cnt INT(5),\n",
    "        exe_time VARCHAR(20) NOT NULL,\n",
    "        reg_date VARCHAR(20),\n",
    "        irank INT(5),\n",
    "        PRIMARY KEY(id)\n",
    "    );\n",
    "    \"\"\"\n",
    "    cursor.execute(create_table_query)\n",
    "    conn.commit()\n",
    "    cursor.close()\n",
    "    conn.close()\n",
    "\n",
    "# 게임 정보 저장 함수\n",
    "def save_game_result(corr_cnt, exe_time):\n",
    "    conn = pymysql.connect(host=HOST, port=PORT, user=USER, passwd=PASSWD, db=DB)\n",
    "    cursor = conn.cursor()\n",
    "    reg_date = datetime.now().strftime('%Y-%m-%d %H:%M:%S')\n",
    "    \n",
    "    # 등수 계산\n",
    "    cursor.execute(\"SELECT id, corr_cnt, exe_time FROM wordgame ORDER BY corr_cnt DESC, exe_time ASC\")\n",
    "    results = cursor.fetchall()\n",
    "    \n",
    "    rank = 1\n",
    "    for result in results:\n",
    "        if result[1] > corr_cnt or (result[1] == corr_cnt and float(result[2]) < float(exe_time)):\n",
    "            rank += 1\n",
    "    \n",
    "    insert_query = \"\"\"\n",
    "    INSERT INTO wordgame (corr_cnt, exe_time, reg_date, irank)\n",
    "    VALUES (%s, %s, %s, %s)\n",
    "    \"\"\"\n",
    "    cursor.execute(insert_query, (corr_cnt, exe_time, reg_date, rank))\n",
    "    conn.commit()\n",
    "    cursor.close()\n",
    "    conn.close()\n",
    "\n",
    "# 순위 출력 함수\n",
    "def print_rankings():\n",
    "    conn = pymysql.connect(host=HOST, port=PORT, user=USER, passwd=PASSWD, db=DB)\n",
    "    cursor = conn.cursor()\n",
    "    cursor.execute(\"SELECT id, corr_cnt, exe_time, reg_date, irank FROM wordgame ORDER BY irank ASC\")\n",
    "    results = cursor.fetchall()\n",
    "    print(\"========== 역대 순위 =============\")\n",
    "    for result in results:\n",
    "        print(result)\n",
    "    cursor.close()\n",
    "    conn.close()\n",
    "\n",
    "# 메인 함수\n",
    "def main():\n",
    "    create_table()\n",
    "    \n",
    "    # 예시 게임 결과 저장\n",
    "    save_game_result(5, '14.923')\n",
    "    save_game_result(5, '16.798')\n",
    "    save_game_result(4, '18.399')\n",
    "    save_game_result(3, '14.318')\n",
    "\n",
    "    # 순위 출력\n",
    "    print_rankings()\n",
    "\n",
    "if __name__ == \"__main__\":\n",
    "    main()"
   ]
  },
  {
   "cell_type": "code",
   "execution_count": null,
   "metadata": {},
   "outputs": [],
   "source": []
  }
 ],
 "metadata": {
  "kernelspec": {
   "display_name": "base",
   "language": "python",
   "name": "python3"
  },
  "language_info": {
   "codemirror_mode": {
    "name": "ipython",
    "version": 3
   },
   "file_extension": ".py",
   "mimetype": "text/x-python",
   "name": "python",
   "nbconvert_exporter": "python",
   "pygments_lexer": "ipython3",
   "version": "3.9.13"
  }
 },
 "nbformat": 4,
 "nbformat_minor": 2
}
